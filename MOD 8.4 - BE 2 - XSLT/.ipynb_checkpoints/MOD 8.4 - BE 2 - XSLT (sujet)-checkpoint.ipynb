{
 "cells": [
  {
   "cell_type": "markdown",
   "metadata": {},
   "source": [
    "# <center>MOD 8.4 - Représentation et manipulation de données structurées - BE 2</center>\n",
    "\n",
    "## <center style=\"color: #66d\">Développement de feuilles de style XSLT.</center>\n",
    "\n",
    "<h4>Abouelfadl khaoula</h4>\n",
    "\n",
    "### 1. Informations générales\n",
    "\n",
    "#### 1.1 Déroulement de la séance\n",
    "\n",
    "Comme pour les séances précédentes, ce travail est à effectuer par binômes. Les binômes peuvent être les mêmes que pour l'un des BE précédents ou être recomposés pour l'occasion. \n",
    "\n",
    "Les livrables qui vous seront demandés pour ce BE devront encore une fois être zippés _(format zip uniquement - toujours pas de formats de compression exotiques)_ et déposés sur le serveur moodle <a href=\"https://pedagogie3.ec-lyon.fr/mod/assign/view.php?id=24864\">[ici]</a> par l'un OU l'autre membre du binôme dans la rubrique <i>Bureaux d'Etudes</i> du cours <i>S9, MOD 8.4 - Représentation et manipulation de données structurées</i>. \n",
    "\n",
    "\n",
    "#### 1.2 Compte-rendu\n",
    "\n",
    "Comme d'habitude, le compte-rendu devra évidemment comporter tous les liens nécessaires pour consulter les documents réalisés _(cf. questions suivantes)_ sous tous les aspects pertinents _(code source, validation, transformation...)_. Seuls les documents accessibles sous forme de liens depuis le compte-rendu seront pris en compte lors de la correction.\n",
    "\n",
    "#### 1.3 Forme des documents produits.\n",
    "\n",
    "Le degré de finition des documents demandés devra correspondre à des standards professionnels. Il est par exemple conseillé d'éviter les caractères rose fluo sur fond vert..."
   ]
  },
  {
   "cell_type": "markdown",
   "metadata": {},
   "source": [
    "### 2. Travail à effectuer\n",
    "\n",
    "Les feuilles de style demandées au cours de ce BE consisteront toutes à transformer des documents XML fournis, pour obtenir divers documents au format HTML ou XHTML."
   ]
  },
  {
   "cell_type": "markdown",
   "metadata": {},
   "source": [
    "#### 2.1 Développement d'une feuille de style XSL simple.\n",
    "\n",
    "La première feuille de style doit permettre de visualiser un document XML avec les informations de ponctualité des trains de banlieue parisiens entre janvier 2013 et août 2015 en le transformant en document HTML ou XHTML. Vous vous apercevrez que ceci est beaucoup moins contraignant que d'afficher le document directement à l'aide de CSS, puisque XSLT permet facilement de transformer la structure du document, de trier les éléments affichés, ou d'ajouter du texte provenant de la feuille de style elle-même.\n",
    "\n",
    "Le premier document fourni s'appelle <a href=\"ponctualite-mensuelle-transilien.xml\"><tt>ponctualite-mensuelle-transilien.xml</tt></a> et sa structure générale est la suivante :"
   ]
  },
  {
   "cell_type": "raw",
   "metadata": {},
   "source": [
    "<ponctualite-transilien>\n",
    "  <service nom=\"RER\">\n",
    "    <ligne sigle=\"A\" id=\"TRA_1\" nom=\"RER A\">\n",
    "      <annee millesime=\"2013\">\n",
    "        <mesure mois=\"01\">\n",
    "          <ponctualite>83.6</ponctualite>\n",
    "          <satisfaction>5.1</satisfaction>\n",
    "        </mesure>\n",
    "        ...\n",
    "      </annee>\n",
    "      ...\n",
    "    </ligne>\n",
    "    ...\n",
    "  </service>\n",
    "  ...\n",
    "</ponctualite-transilien>"
   ]
  },
  {
   "cell_type": "markdown",
   "metadata": {},
   "source": [
    "\n",
    "__Q1. Développer une première feuille de style :__\n",
    "<div style=\"background-color:#eef;padding:10px;border-radius:3px\">\n",
    "Développer une feuille de style XSL qui transforme le contenu du document <tt>ponctualite-mensuelle-transilien.xml</tt> fourni pour en permettre l'affichage dans un navigateur. Pour cela, il suffira de dupliquer le document XML en l'appelant par exemple <tt>question-1.xml</tt> pour ajouter le lien vers la feuille de style XSL nommée <tt>question-1.xsl</tt>, et de l'ouvrir dans le navigateur.  On veillera à afficher la ponctualité avec un chiffre significatif après la virgule, et un seul.\n",
    "\n",
    "<p>\n",
    "<b>N.B.</b> L'obtention d'un document HTML ou XHTML via une transformation XSL n'empêche pas que celui-ci fasse appel à une feuille de style CSS <tt>question-1.css</tt> pour son affichage par un navigateur.\n",
    "</div>\n",
    "\n",
    "<div style=\"background-color:#fee;padding:10px;border-radius:3px\">\n",
    "Les divers dispositifs <em>(navigateurs, serveur notebook...)</em> étant de plus en plus paranoïaques, il devient de plus en plus difficile de visualiser un document (XML) essayant de charger un second document (XSL), directement depuis son disque <em>(i.e. avec une URL en file:)</em> ou via un serveur non prévu pour ça (notebook).\n",
    "\n",
    "Afin de pouvoir visualiser sereinement son document XML, transformé par XSL, il est donc nécessaire que ceux-ci soient délivrés via un serveur. Le plus simple pour cela est de démarrer un serveur via python, à l'aide de la commande ci-dessous exécutée depuis une fenêtre terminal dans le répertoire de votre BE :\n",
    "<code>python -m http.server</code>\n",
    "\n",
    "Ceci vous permettra de visualiser votre document à l'adresse : <a href=\"http://localhost:8000/question-1.xml\">http://localhost:8000/question-1.xml</a>\n",
    "\n"
   ]
  },
  {
   "cell_type": "markdown",
   "metadata": {},
   "source": [
    "<div style=\"background-color:#c7ffd6;padding:10px;border-radius:3px\">\n",
    "    <h3>Résultats du développement de la première feuille de style</h3>\n",
    "    Nous avons développé une feuille de style XSL pour obtenir un document HTML. En effet, nous avons utilisé une approche procédurale pour traiter toutes les informations fournis par le document XML original. Nous pouvons faire certaines remarques en ce qui concerne notre travail :\n",
    "        <ol>\n",
    "            <li>Nous avons mis la balise html à la racine, alors l'output sera par défaut un fichier HTML</li>\n",
    "            <li>Nous avons ajouté également une feuille de style CSS pour améliorer l'apparence du fichier HTML final. Cette feuille de style s'appelle <a href=\"question-1.css\"><tt>question-1.css</tt></a></li>\n",
    "            <li>L'affichage d'un seul chiffre significatif après la virgule a été conçu par approximation originalement. Du fait qu'éventuellement ce comportement pourrait ne pas être le comportement désiré, nous proposons une alternative différente dans le fichier <a href=\"question-1.xsl\"><tt>question-1.xsl</tt></a>. Cette alternative pourra être trouvée comme partie d'un commentaire dans l'endroit correspondant</li>\n",
    "            <li>Le tri des informations est fait tout d'abord par année et puis par mois. L'utilisation de l'attribut <b>data-type</b> avec la valeur <b>\"number\"</b> nous permet d'être sûrs que le tri sera bien fait. Sans cet attribut, le mois 01 et le mois 1 auront des valeurs différents dans l'espace des valeurs, et donc le tri pourrait ne pas être réussi selon ce que nous voulons</li>\n",
    "        </ol>\n",
    "    \n",
    "Dernière remarque : nous avons utilisé le serveur Python proposé pour visualiser notre travail. Compte tenu de cela, le lien suivant devrait montrer le résultat du document <b>question-1.xml</b> en utilisant le même serveur dans le port 8000: <a href=\"http://localhost:8000/question-1.xml\">http://localhost:8000/question-1.xml</a>\n",
    "</div>\n",
    "\n"
   ]
  },
  {
   "cell_type": "markdown",
   "metadata": {},
   "source": [
    "__Q2. Le résultat de la transformation est-il du code HTML ou XHTML valide ? :__\n",
    "<div style=\"background-color:#eef;padding:10px;border-radius:3px\">\n",
    "Trouver une solution pour pouvoir valider en ligne le document HTML ou XHTML obtenu.<br>\n",
    "<p>\n",
    "Suggestion : utiliser python avec le module lxml, ou un autre langage de programmation avec le module adéquat afin de transformer le document source et récupérer le document produit que l'on pourra soumettre au validateur en ligne.\n",
    "</div>"
   ]
  },
  {
   "cell_type": "markdown",
   "metadata": {},
   "source": [
    "<div style=\"background-color:#c7ffd6;padding:10px;border-radius:3px\">\n",
    "    <h3>Validation d'un document HTML</h3>\n",
    "       Pour pouvoir valider un fichier HTML créé en utilisant une feuille de style XSLT, nous avons trouvé le validateur suivant : <a href=\"http://validator.w3.org/#validate_by_upload\">validateur w3</a>. Cependant, ce validateur demande un fichier déjà fait et pas un fichier XML plus la feuille XSLT correspondante. Alors, pour obtenir le fichier HTML résultant d'une transformation XSLT, nous avons créé la fonction Python <b>xml_by_xslt</b>, définie dans la cellule suivante. Cette fonction reçoit le nom d'un fichier XML, le nom d'une feuille de style XSLT et comme paramètres optionnels un nom pour le fichier de sortie et le type de sortie.<br>\n",
    "        Le résultat retourné par le validateur pour le document HTML <a href=\"question-1.html\"><tt>question-1.html</tt></a> et le document XHTML <a href=\"question-1.xhtml\"><tt>question-1.xhtml</tt></a> sont visibles dans les images suivantes :<br>\n",
    "    <h4>Validation HTML</h4>\n",
    "    <img src=\"valid_html.png\">\n",
    "    <h4>Validation XHTML</h4>\n",
    "    <img src=\"valid_xhtml.png\">\n",
    "</div>"
   ]
  },
  {
   "cell_type": "code",
   "execution_count": 19,
   "metadata": {
    "util.bundle": "correcteur"
   },
   "outputs": [],
   "source": [
    "#validation en ligne http://validator.w3.org/#validate_by_upload\n",
    "from lxml import etree\n",
    "\n",
    "def xml_by_xslt(xml_file, xsl_file, output_name=\"\", output_type=\"html\"):\n",
    "    \n",
    "    #pour ajouter le DOCTYPE au debut du fichier\n",
    "    output_type = output_type.lower()\n",
    "    if output_type == \"xhtml\":\n",
    "        doctype = \"<!DOCTYPE html PUBLIC '-//W3C//DTD XHTML 1.0 Transitional//EN'\" + \\\n",
    "                    \" 'http://www.w3.org/TR/xhtml1/DTD/xhtml1-transitional.dtd'>\"\n",
    "        declaration = True \n",
    "    elif output_type == \"html\":\n",
    "        doctype = \"<!DOCTYPE html>\"\n",
    "        declaration = False\n",
    "    else:\n",
    "        print(\"Output type not supported\")\n",
    "        return False\n",
    "        \n",
    "\n",
    "    #creation d'un nom par defaut pour le fichier de sortie\n",
    "    if output_name == \"\":\n",
    "        ext_pos = xml_file.rfind(\".\")\n",
    "        if ext_pos != -1:\n",
    "            output_name = xml_file[:ext_pos] + \".\" + output_type\n",
    "        else:\n",
    "            output_name = xml_file + \".\" + output_type\n",
    "            \n",
    "    #transformation en utilisant les outils du module lxml\n",
    "    original_xml = etree.parse(xml_filename)\n",
    "    xsl = etree.parse(xsl_filename)\n",
    "    transform = etree.XSLT(xsl)\n",
    "    new_xml = transform(original_xml)\n",
    "\n",
    "    #arbre XML a ecrire\n",
    "    output_xml = etree.tostring(new_xml, encoding=\"utf-8\",\n",
    "                                xml_declaration=declaration,\n",
    "                                doctype=doctype)\n",
    "\n",
    "    # ecriture du fichier html\n",
    "    with open(output_name, 'wb') as file:\n",
    "        file.write(output_xml)\n",
    "\n",
    "\n",
    "# définition des noms des fichiers\n",
    "xml_filename = 'ponctualite-mensuelle-transilien.xml'\n",
    "xsl_filename = 'question-1.xsl'\n"
   ]
  },
  {
   "cell_type": "code",
   "execution_count": 18,
   "metadata": {
    "util.bundle": "correcteur"
   },
   "outputs": [],
   "source": [
    "#xml_by_xslt(xml_filename, xsl_filename, \"question-1.xhtml\", \"xhtml\")\n",
    "#xml_by_xslt(xml_filename, xsl_filename, \"question-1.html\", \"html\")"
   ]
  },
  {
   "cell_type": "markdown",
   "metadata": {},
   "source": [
    "Voir le document HTML : <a href=\"question-1.html\">question-1.html</a><br>\n",
    "Voir le document XHTML : <a href=\"question-1.xhtml\">question-1.xhtml</a><br>\n",
    "Dans le reste des exercices, nous allons travailler avec le HTML.\n",
    "\n",
    "__Q3. Afficher les mois par leur nom et non pas par leur numéro :__\n",
    "<div style=\"background-color:#eef;padding:10px;border-radius:3px\">\n",
    "Créeer un template paramétré pour convertir un numéro de mois en nom de mois en toutes lettres.\n",
    "</div>\n",
    "\n",
    "<div style=\"background-color:#c7ffd6;padding:10px;border-radius:3px\">\n",
    "    <h3>Transformation des numéros des mois par leur noms</h3>\n",
    "    Pour arriver à changer les numéros des mois par leur noms, nous avons créé un template paramétré qui s'appelle <b>\"lettres_mois\"</b>. Ce template reçoit un paramétre appellé <b>\"numero\"</b>, qui devrait être un numéro entre 1 et 12. En utilisant la balise <b>xsl:choose</b>, nous allons prendre <b>\"numero\"</b> et retourner la valeur du mois correspondante comme mot. Alors, dans le template principal nous creons une variable appelée <b>\"mois\"</b> pour chaque <b>$\\lt$mesure$\\gt$</b>. Cette variable va contenir le nom du mois grâce à l'utilisation du template <b>\"lettres_mois\"</b> et l'attribut <b>@mois</b> de la mesure en question. Nous utilisons la même feuille de style CSS <a href=\"question-1.css\"><tt>question-1.css</tt></a> parce que la structure du fichier xml résultant est la même.\n",
    "</div>\n",
    "\n",
    "Voir le document dans le serveur Python : <a href=\"http://localhost:8000/question-3.xml\">question-3.xml</a>\n",
    "\n",
    "__Q4. Afficher les dates limites dans le titre de la page :__\n",
    "<div style=\"background-color:#eef;padding:10px;border-radius:3px\">\n",
    "Créer des templates paramétrés pour calculer le minimum (resp. le maximum) d'une liste. Utiliser ces templates pour afficher un titre du type \"Ponctualité des lignes transiliennes de janvier 2013 à août 2015\" où les dates sont automatiquement extraites du document XML.\n",
    "</div>\n",
    "\n",
    "<div style=\"background-color:#c7ffd6;padding:10px;border-radius:3px\">\n",
    "    <h3>Dates limites du document</h3>\n",
    "    Pour cet exercice, nous avons gardé le template pour convertir les mois depuis leurs numéros vers leurs noms. En ce qui concerne les dates limites, nous avons ajouté les templates appelées <b>\"min\"</b> et <b>\"max\"</b>. Ces templates reçoivent un ensemble de noeuds avec des éléments qui ont des valeurs numériques et permetent d'obtenir les valeurs minimal et maximal respectivement. Nous utilisons ces templates pour obtenir les dates limites : d'abord les années maximales et minimales, puis le mois minimal étant donnée l'année minimale et le mois maximal étant donnée l'année maximale. Alors, dans le document nous trouvons que la date minimale est <b>janvier 2013</b>, alors que la date maximale est <b>Août 2015</b>.\n",
    "</div>\n",
    "\n",
    "Voir le document dans le serveur Python: <a href=\"http://localhost:8000/question-4.xml\">question-4.xml</a><br>\n",
    "Petite remarque : cette fois nous utilisons la feuille de style CSS <a href=\"http://localhost:8000/question-4.css\">question-4.css</a> à la place de la feuille question-1.css. Le seul changement est l'addition de style pour le nouveau titre avec les dates limites que nous avons ajouté"
   ]
  },
  {
   "cell_type": "markdown",
   "metadata": {},
   "source": [
    "#### 2.2 Prise en compte des couleurs des lignes\n",
    "\n",
    "Les franciliens reconnaissent leurs trains grâce à un code couleur. Vous trouverez des indications concernant les couleurs des lignes dans le document <a href=\"code-couleur-transilien.xml\"><tt>code-couleur-transilien.xml</tt></a>. Ce document adopte la structure générale suivante :\n"
   ]
  },
  {
   "cell_type": "raw",
   "metadata": {},
   "source": [
    "<code-couleur-transilien>\n",
    "  <ligne sigle=\"C\" nom=\"RER C\" couleur=\"jaune\" r=\"252\" g=\"216\" b=\"70\" hex=\"#FCD946\"/>\n",
    "  ...\n",
    "</code-couleur-transilien>"
   ]
  },
  {
   "cell_type": "markdown",
   "metadata": {},
   "source": [
    "\n",
    "__Q5. Intégrer ces informations dans un document XML unique :__\n",
    "<div style=\"background-color:#eef;padding:10px;border-radius:3px\">\n",
    "Indiquer quelles sont les différentes manières permettant de créer un document XML unique comportant à la fois les mesures et les codes couleur, avec les avantages et inconvénients de chacune d'entre elles.\n",
    "<p>\n",
    "Créer un document unique <tt>question-5.xml</tt> intégrant l'ensemble des informations fournies.\n",
    "</div>\n",
    "\n",
    "<div style=\"background-color:#c7ffd6;padding:10px;border-radius:3px\">\n",
    "    <h3>Intégration des élements dans un fichier XML unique</h3>\n",
    "    L'intégration des informations provenantes de différents fichiers est un sujet intéressant à traiter. Tout d'abord, comme nous avons vu dans le cours, parfois il peut avoir des conflits compte tenu des éléments qui peuvent avoir les mêmes noms mais différentes significations selon la provenance. La première option que nous voyons pour mélanger les informations des deux fichiers est la plus simple, mais aussi un peu naïve : copier les informations du fichier des couleurs directement dans le fichier des mesures. En effet, cela devrait fonctionner facilement si nous ajoutons l'information du fichier des coulours à l'intérieur de la racine ($\\lt$ ponctualite-trainsilien $\\gt$) du document des mesures. Cependant, ici le problème serait que si jamais il y a des modifications dans un des fichiers, la mélange devrait être fait manuellement encore une fois. En plus, l'affichage du nouveau fichier XML comptera avec ces nouvelles informations, qui ne sont pas précisement intéressantes d'afficher (pourquoi monter une balise avec des informations des couleurs ?).<br>\n",
    "    Une deuxième option que nous voyons serait d'ajouter l'information des couleurs de la même manière naïve (simplement à l'intérieur de la racine $\\lt$ ponctualite-trainsilien $\\gt$, comme frère des balises $\\lt$service$\\gt$), mais cette fois en utilisant une feuille de style XSLT. En utilisant la fonction document(filename) de XPath, ainsi que les balises <b>xsl:copy</b> et <b>xsl:copy-of</b>, nous pouvons inclure l'information d'un fichier sur un autre fichier. <a href=\"https://stackoverflow.com/questions/15194718/how-to-merge-two-xml-files-with-xslt\">Cette source</a> montre un exemple de comment réussir avec cette option. Les avantages sont claires : si les fichiers restent avec la même structure, l'addition des nouvelles informations peut être fait de manière automatique en ajoutant la feuille de style sur le fichier principal. Par contre, ce nouveau fichier resterait toujours avec des informations un peu redondantes (à la fin, les couleurs ne sont que un sort de attributs des lignes).<br>\n",
    "    Une troisième approximation alors serait de utiliser le même mécanisme XSLT pour n'ajouter que les informations nécessaires au fichier de sortie. Par exemple, si nous voulons travailler avec les couleurs en hexadécimal, pourquoi ajouter les valeurs RGB ? Nous pourrions simplement utiliser le code hexadécimal dans les endroits nécessaires et c'est fini. Et même, nous pourrions générer directement des fichiers de sortie HTML ou XHTML sans besoin de garder un nouveau fichier XML. L'inconvénient ici serait la perte des informations dans le fichier final : si jamais nous voulons utiliser les valeurs RGB et nous n'avons gardé que les hexadécimales, il faudrait créer une nouvelle feuille de style XSLT pour cela.<br>\n",
    "    La conclusion que nous pouvons faire est que il n'y a pas une solution optimale universelle, sinon que chaque solution va être meilleur ou pire selon les résultats voulus. En ce qui concerne l'exercice, nous allons montrer deux méthodes : la première sera la copie manuelle des informations (nous utiliserons cette approximation dans la question 6) et la deuxième sera la génération directe du fichier HTML en utilisant la fonction document(filename) de XPath.\n",
    "</div>\n",
    "\n",
    "Voir le document sans feuilles de style dans le serveur Python : <a href=\"http://localhost:8000/question-5.xml\">question-5.xml</a>. Ce document est simplement le résultat d'ajouter manuellement les informations de <b>code-couleur-transilien.xml</b> sur le fichier des mesures.<br>\n",
    "Voir le document HTML généré directement dans le serveur Python : <a href=\"http://localhost:8000/question-5_html.xml\">question-5_html.xml</a>. Nous utilisons les informations de <b>code-couleur-transilien.xml</b> pour changer le style du fichier des mesures (couleur du nom des lignes personnalisé).<br>\n",
    "\n",
    "__Q6. Tenir compte des codes couleur :__\n",
    "<div style=\"background-color:#eef;padding:10px;border-radius:3px\">\n",
    "Dupliquer ce nouveau document pour lui adjoindre une référence à la feuille de style <tt>question-6.xsl</tt> à créer, pour tenir compte des codes couleur dans le résultat de la transformation affichant les taux de ponctualité et de satisfaction.\n",
    "</div>\n",
    "\n",
    "<div style=\"background-color:#c7ffd6;padding:10px;border-radius:3px\">\n",
    "    <h3>Intégration des couleurs dans le fichier final</h3>\n",
    "    Comme nous avons dit précédemment, nous avons choisi de copier manuellement les informations du fichier des couleurs dans le fichier des mesures pour faire ce dernier exercice. Compte tenu de cela, nous avons ajouté un nouveau template qui est capable de faire le lien entre une couleur à l'intérieur de la balise $\\lt$code-couleur-transilien$\\gt$ et la <b>ligne</b> correspondante. Nous utilisons cette couleur dans le nom de la ligne et dans le fond des entêtes des tables d'information de chaque ligne. Pour le reste des définitions de style du fichier, nous utilisons la feuille CSS <a href=\"http://localhost:8000/question-6.css\">question-6.css</a>. Nous constatons un peu la complexité de choisir des coulours pour les mots et pour le fond du document qui soient totalement addaptatives à toutes les coulours concernant les lignes. Nous avons choisi finalement la couleur blanche, qui seulement a des problèmes avec la couleur jeune, mais le contraste reste assez bon.\n",
    "</div>\n",
    "\n",
    "Voir le document dans le serveur Python : <a href=\"http://localhost:8000/question-6.xml\">question-6.xml</a>\n"
   ]
  },
  {
   "cell_type": "markdown",
   "metadata": {},
   "source": [
    "#### 2.3 Pour le plaisir\n",
    "\n",
    "#### 2.3.1 Contexte\n",
    "\n",
    "SVG _(Scalable Vector Graphics)_ est une application XML de graphiques vectoriels ayant fait l'objet de plusieurs recommandations du W3C.\n",
    "\n",
    "Il s'agit d'un format moderne qui permet d'inclure des graphiques vectoriels au sein d'un page Web, et se marie parfaitement avec les autres technologies mises en oeuvre au sein des navigateurs. SVG est complètement intégré à HTML 5 et compatible CSS. Cette dernière possibilité permet ainsi d'afficher un même graphique sous des formes différentes en fonction de la feuille de style employée.\n",
    "\n",
    "Enfin, SVG permet le développement de graphiques animés grâce à un ensemble de fonctions d'animation intrinsèques, et de véritables applications interactives grâce à sa compatibilité DOM Level 2 et Javascript. Cette dernière possibilité a évidemment contribué au déclin de technologies comme Flash\n",
    "\n",
    "#### 2.3.2 Documentation\n",
    "\n",
    "Pour en savoir plus sur SVG :\n",
    "<ul style=\"margin-top:0\">\n",
    "<li style=\"margin-top:0\"><a href=\"http://dmolinarius.github.io/demofiles/intro-svg/\">Introduction à SVG</a> - Une présentation rapide de SVG avec de nombreux exemples.</li>\n",
    "<li style=\"margin-top:0\"><a href=\"http://dmolinarius.github.io/demofiles/mod-84/svg.pdf\">Cours SVG</a> - Le cours en ligne.</li>\n",
    "<li style=\"margin-top:0\"><a href=\"https://www.w3.org/Graphics/SVG/\">Page de référence SVG</a> - World Wide Web Consortium.</li>\n",
    "<li style=\"margin-top:0\"><a href=\"https://www.w3.org/TR/SVG11/\">Recommandation SVG 1.1</a> - World Wide Web Consortium.</li>\n",
    "<li style=\"margin-top:0\"><a href=\"https://www.w3.org/TR/SVG11/types.html#BasicDOMInterfaces\">Interfaces DOM implémentés par SVG 1.1</a> - World Wide Web Consortium.</li>\n",
    "<li style=\"margin-top:0\"><a href=\"https://www.w3.org/TR/2000/REC-DOM-Level-2-Core-20001113/ecma-script-binding.html\">DOM Level 2</a> - World Wide Web Consortium.</li>\n",
    "</ul>\n",
    "\n",
    "\n",
    "__Q7. Générer un graphique :__\n",
    "<div style=\"background-color:#eef;padding:10px;border-radius:3px\">\n",
    "Transformer le même type de document XML que celui utilisé pour la question 6 à l'aide d'une nouvelle feuille de style XSL pour obtenir cette fois-ci un graphique SVG au lieu d'un document HTML.\n",
    "</div>\n",
    "\n",
    "Voir le document : <a href=\"question-7.xml\">question-7.xml</a>"
   ]
  },
  {
   "cell_type": "code",
   "execution_count": 2,
   "metadata": {
    "collapsed": true
   },
   "outputs": [],
   "source": []
  }
 ],
 "metadata": {
  "kernelspec": {
   "display_name": "Python 3 (ipykernel)",
   "language": "python",
   "name": "python3"
  },
  "language_info": {
   "codemirror_mode": {
    "name": "ipython",
    "version": 3
   },
   "file_extension": ".py",
   "mimetype": "text/x-python",
   "name": "python",
   "nbconvert_exporter": "python",
   "pygments_lexer": "ipython3",
   "version": "3.9.13"
  }
 },
 "nbformat": 4,
 "nbformat_minor": 2
}
