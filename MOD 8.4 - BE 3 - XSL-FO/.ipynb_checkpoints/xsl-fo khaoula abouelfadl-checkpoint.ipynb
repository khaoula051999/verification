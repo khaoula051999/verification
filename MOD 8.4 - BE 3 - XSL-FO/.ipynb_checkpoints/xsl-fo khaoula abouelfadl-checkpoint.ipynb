{
 "cells": [
  {
   "cell_type": "markdown",
   "metadata": {},
   "source": [
    "# <center>MOD 8.4 - Représentation et manipulation de données structurées - BE 3 khaoula abouelfadl</center>\n",
    "\n",
    "## <center style=\"color: #66d\">Transformation XSLT, format XSL-FO, et document pdf.</center>\n",
    "\n",
    "### 1. Informations générales\n",
    "\n",
    "#### 1.1 Déroulement de la séance\n",
    "\n",
    "Comme pour les séances précédentes, ce travail est à effectuer par binômes. Les binômes peuvent être les mêmes que pour l'un des BE précédents ou être recomposés pour l'occasion.\n",
    "\n",
    "Les livrables qui vous seront demandés pour ce BE devront encore une fois être zippés _(format zip uniquement - toujours pas de formats de compression exotiques)_ et déposés sur la plateforme pédagogique dans la zone de rendu, dans l'espace réservé au BE n°3 sur le serveur moodle.\n",
    "\n",
    "#### 1.2 Compte-rendu\n",
    "\n",
    "Le compte-rendu sera fait comme d'habitude au format jupyter notebook.\n",
    "Il devra évidemment comporter tous les liens nécessaires pour consulter les documents réalisés _(cf. questions suivantes)_ sous tous les aspects pertinents _(code source, validation, transformation...)_. Seuls les documents accessibles sous forme de liens depuis le compte-rendu seront pris en compte lors de la correction.\n",
    "\n",
    "#### 1.3 Forme des documents produits.\n",
    "\n",
    "Le degré de finition des documents demandés devra correspondre à des standards professionnels."
   ]
  },
  {
   "cell_type": "code",
   "execution_count": null,
   "metadata": {},
   "outputs": [],
   "source": []
  },
  {
   "cell_type": "markdown",
   "metadata": {},
   "source": [
    "### 2. Prise en main de XSL-FO et installation de Apache fop\n",
    "\n",
    "Le travail demandé au cours de ce BE consiste à transformer les documents XML fournis pour obtenir d'abord un document XSL-FO à l'aide d'une feuille de style XSLT, puis un rapport papier au format <tt>pdf</tt> à l'aide de l'outil \"fop\" (Apache Formatting Objects Processor).\n",
    "\n",
    "#### 2.1 Prise en main de XSL-FO.\n",
    "\n",
    "Consulter le <a href=\"http://dmolinarius.github.io/demofiles/mod-84/xslfo.pdf\">cours sur XSL-FO</a>, puis :\n",
    "\n",
    "__Q1. Développer une première feuille de style XSL-FO :__\n",
    "<div style=\"background-color:#d8d8ff;padding:10px;border-radius:3px\">\n",
    "Créer une feuille de style XSLT nommée <a href=\"question-1.xsl\"><tt>question-1.xsl</tt></a> qui transforme n'importe quel document XML en un document XSL-FO (toujours le même, quel que soit le contenu du document XML transformé) contenant le message \"hello, world\".\n",
    "</div>"
   ]
  },
  {
   "cell_type": "markdown",
   "metadata": {},
   "source": [
    "\n",
    "__Q2. Créer un premier document XSL-FO :__\n",
    "<div style=\"background-color:#d8d8ff;padding:10px;border-radius:3px\">\n",
    "Implémenter la transformation XSLT d'un document XML via votre feuille de style, à l'aide d'un programme de votre choix (suggestion : python via le présent notebook) et admirer le résultat obtenu dans un fichier qui sera nommé <a href=\"question-1.fo\"><tt>question-1.fo</tt></a>\n",
    "</div>"
   ]
  },
  {
   "cell_type": "code",
   "execution_count": 7,
   "metadata": {
    "collapsed": true,
    "util.bundle": "correcteur"
   },
   "outputs": [
    {
     "data": {
      "text/plain": [
       "388"
      ]
     },
     "execution_count": 7,
     "metadata": {},
     "output_type": "execute_result"
    }
   ],
   "source": [
    "# votre code ici\n",
    "import lxml.etree as ET\n",
    "\n",
    "xml=ET.parse(\"regularite-mensuelle-tgv.xml\")\n",
    "xsl=ET.parse(\"question-1.xsl\")\n",
    "transform=ET.XSLT(xsl)\n",
    "result=transform(xml)\n",
    "\n",
    "fichier=open(\"question-1.fo\",\"wb\")\n",
    "fichier.write(ET.tostring(result, pretty_print=True, encoding='utf-8'))"
   ]
  },
  {
   "cell_type": "markdown",
   "metadata": {},
   "source": [
    "#### 2.2 Installation et utilisation de Apache FOP.\n",
    "\n",
    "__Q3. Obtenir un document pdf :__\n",
    "<div style=\"background-color:#eef;padding:10px;border-radius:3px\">\n",
    "Installer <a href=\"https://xmlgraphics.apache.org/fop/\">Apache FOP</a> et transformer le document <tt>question-1.fo</tt> pour obtenir <a href=\"question-1.pdf\"><tt>question-1.pdf</tt></a>.\n",
    "</div>\n",
    "\n",
    "Exemple de fonction réalisant la transformation depuis le notebook :"
   ]
  },
  {
   "cell_type": "code",
   "execution_count": 2,
   "metadata": {},
   "outputs": [
    {
     "name": "stdout",
     "output_type": "stream",
     "text": [
      "'fop' nest pas reconnu en tant que commande interne\r\n",
      "ou externe, un programme exécutable ou un fichier de commandes.\r\n",
      "\n"
     ]
    }
   ],
   "source": [
    "# fonction pour lancer la transformation fop\n",
    "def run_fop(filename):\n",
    "    import sys\n",
    "    import os.path\n",
    "    import subprocess\n",
    "\n",
    "    # nom des fichiers\n",
    "    fo = \"{}.fo\".format(filename)\n",
    "    pdf =\"{}.pdf\".format(filename)\n",
    "\n",
    "    # le fichier .fo n'existe pas\n",
    "    if not os.path.isfile(fo):\n",
    "        print(\"Could not find {}\".format(fo))\n",
    "        return None\n",
    "\n",
    "    # appel de fop (ajuster éventuellement le chemin d'accès à l'exécutable et au fichier de configuration)\n",
    "    args = [\"fop\", \"-c\", \"C:\\Program Files (x86)\\\\fop-2.2\\\\fop\\\\conf\\\\fop.xconf\", fo, pdf]\n",
    "    return subprocess.run(args,shell=True,stderr=subprocess.PIPE)\n",
    "    \n",
    "# On effectue la transformation\n",
    "r = run_fop('question-1')\n",
    "print(r.stderr.decode('iso-8859-1'))"
   ]
  },
  {
   "cell_type": "code",
   "execution_count": 15,
   "metadata": {},
   "outputs": [],
   "source": [
    "# Méthode alternative pour lancer fop\n",
    "def run_fop(filename):\n",
    "    import sys\n",
    "    import os.path\n",
    "    import subprocess\n",
    "    \n",
    "    # nom des fichiers\n",
    "    fo = \"question-1.fo\".format(filename)\n",
    "    pdf =\"question-1.pdf\".format(filename)\n",
    "    \n",
    "    # le fichier .fo n'existe pas\n",
    "    if not os.path.isfile(fo):\n",
    "        print(\"Could not find the fo file\".format(fo))\n",
    "        return None\n",
    "\n",
    "    # appel de fop (ajuster éventuellement le chemin d'accès à l'exécutable et au fichier de \n",
    "    args = [\"C:\\Program Files (x86)/fop-2.8-bin/fop-2.8/fop/fop\", fo, pdf]\n",
    "    return subprocess.run(args,shell=True,stderr=subprocess.PIPE)\n",
    "\n",
    "# On effectue la transformation\n",
    "r = run_fop('question-1')"
   ]
  },
  {
   "cell_type": "markdown",
   "metadata": {},
   "source": [
    "### 3. Création d'un rapport\n",
    "\n",
    "Maintenant que la chaîne de production est maîtrisée, l'objectif sera de créer un rapport au format <tt>pdf</tt>, à partir \n",
    "du document <a href=\"regularite-mensuelle-tgv.xml\"><tt>regularite-mensuelle-tgv.xml</tt></a> fourni avec le sujet, dont la structure générale est la suivante :"
   ]
  },
  {
   "cell_type": "raw",
   "metadata": {},
   "source": [
    "<regularite-tgv>\n",
    "  <axe nom=\"Nord\">\n",
    "    <gare-depart nom=\"PARIS NORD\">\n",
    "      <gare-arrivee nom=\"DOUAI\">\n",
    "        <mesure annee=\"2014\" mois=\"03\" trains-prevus=\"196\" trains-ok=\"196\" annules=\"0\" retards=\"11\" regularite=\"94.4\" commentaire=\"\"/>\n",
    "        ...\n",
    "      </gare-arrivee>\n",
    "      ...\n",
    "    </gare-depart>\n",
    "    ...\n",
    "  </axe>\n",
    "</regularite-tgv>\n",
    "      \n",
    "        "
   ]
  },
  {
   "cell_type": "markdown",
   "metadata": {},
   "source": [
    "__Q4. Liste des axes :__\n",
    "<div style=\"background-color:#eef;padding:10px;border-radius:3px\">\n",
    "Développer une feuille de style XSL qui transforme ce document de manière à obtenir un document <tt>pdf</tt> listant le nom des axes sous forme de titres.\n",
    "</div>\n",
    "\n",
    "On nommera respectivement les documents demandés\n",
    "<a href=\"question-4.xsl\"><tt>question-4.xsl</tt></a>,\n",
    "<a href=\"question-4.fo\"><tt>question-4.fo</tt></a> et\n",
    "<a href=\"question-4.pdf\"><tt>question-4.pdf</tt></a>."
   ]
  },
  {
   "cell_type": "code",
   "execution_count": 5,
   "metadata": {
    "util.bundle": "correcteur"
   },
   "outputs": [
    {
     "data": {
      "text/plain": [
       "2159"
      ]
     },
     "execution_count": 5,
     "metadata": {},
     "output_type": "execute_result"
    }
   ],
   "source": [
    "# votre code ici pour créer question-4.fo\n",
    "import lxml.etree as ET\n",
    "\n",
    "xml=ET.parse(\"regularite-mensuelle-tgv.xml\")\n",
    "xsl=ET.parse(\"question-4.xsl\")\n",
    "transform=ET.XSLT(xsl)\n",
    "result=transform(xml)\n",
    "\n",
    "fichier=open(\"question-4.fo\",\"wb\")\n",
    "fichier.write(ET.tostring(result, pretty_print=True, encoding='utf-8'))"
   ]
  },
  {
   "cell_type": "code",
   "execution_count": 6,
   "metadata": {},
   "outputs": [],
   "source": [
    "# votre code ici pour créer question-4.pdf\n",
    "def run_fop(filename):\n",
    "    import sys\n",
    "    import os.path\n",
    "    import subprocess\n",
    "    \n",
    "    # nom des fichiers\n",
    "    fo = \"question-4.fo\".format(filename)\n",
    "    pdf =\"question-4.pdf\".format(filename)\n",
    "    \n",
    "    # le fichier .fo n'existe pas\n",
    "    if not os.path.isfile(fo):\n",
    "        print(\"Could not find the fo file\".format(fo))\n",
    "        return None\n",
    "\n",
    "    # appel de fop (ajuster éventuellement le chemin d'accès à l'exécutable et au fichier de \n",
    "    args = [\"C:\\Program Files (x86)/fop-2.8-bin/fop-2.8/fop/fop\", fo, pdf]\n",
    "    return subprocess.run(args,shell=True,stderr=subprocess.PIPE)\n",
    "\n",
    "# On effectue la transformation\n",
    "r = run_fop('question-4')\n"
   ]
  },
  {
   "cell_type": "markdown",
   "metadata": {},
   "source": [
    "__Q5. Page de titre :__\n",
    "<div style=\"background-color:#eef;padding:10px;border-radius:3px\">\n",
    "Ajouter une page de titre. En profiter pour mentionner vos noms. Noter qu'il est en général possible de passer des variables au moteur XSLT\n",
    "(cf. <a href=\"http://lxml.de/xpathxslt.html#stylesheet-parameters\">lxml</a>),\n",
    "ce qui peut faciliter entre autres l'affichage de la date d'impression.\n",
    "</div>\n",
    "\n",
    "Les documents demandés seront nommés\n",
    "<a href=\"question-5.xsl\"><tt>question-5.xsl</tt></a>,\n",
    "<a href=\"question-5.fo\"><tt>question-5.fo</tt></a> et\n",
    "<a href=\"question-5.pdf\"><tt>question-5.pdf</tt></a>."
   ]
  },
  {
   "cell_type": "code",
   "execution_count": 17,
   "metadata": {
    "util.bundle": "correcteur"
   },
   "outputs": [
    {
     "data": {
      "text/plain": [
       "3371"
      ]
     },
     "execution_count": 17,
     "metadata": {},
     "output_type": "execute_result"
    }
   ],
   "source": [
    "# votre code ici  pour créer question-5.fo\n",
    "import lxml.etree as ET\n",
    "\n",
    "xml=ET.parse(\"regularite-mensuelle-tgv.xml\")\n",
    "xsl=ET.parse(\"question-5.xsl\")\n",
    "transform=ET.XSLT(xsl)\n",
    "result=transform(xml)\n",
    "\n",
    "fichier=open(\"question-5.fo\",\"wb\")\n",
    "fichier.write(ET.tostring(result, pretty_print=True, encoding='utf-8'))"
   ]
  },
  {
   "cell_type": "code",
   "execution_count": 18,
   "metadata": {},
   "outputs": [],
   "source": [
    "# votre code ici  pour créer question-5.pdf\n",
    "def run_fop(filename):\n",
    "    import sys\n",
    "    import os.path\n",
    "    import subprocess\n",
    "    \n",
    "    # nom des fichiers\n",
    "    fo = \"question-5.fo\".format(filename)\n",
    "    pdf =\"question-5.pdf\".format(filename)\n",
    "    \n",
    "    # le fichier .fo n'existe pas\n",
    "    if not os.path.isfile(fo):\n",
    "        print(\"Could not find the fo file\".format(fo))\n",
    "        return None\n",
    "\n",
    "    # appel de fop (ajuster éventuellement le chemin d'accès à l'exécutable et au fichier de \n",
    "    args = [\"C:\\Program Files (x86)/fop-2.8-bin/fop-2.8/fop/fop\", fo, pdf]\n",
    "    return subprocess.run(args,shell=True,stderr=subprocess.PIPE)\n",
    "\n",
    "# On effectue la transformation\n",
    "r = run_fop('question-5')"
   ]
  },
  {
   "cell_type": "markdown",
   "metadata": {},
   "source": [
    "__Q6. Statistiques :__\n",
    "<div style=\"background-color:#eef;padding:10px;border-radius:3px\">\n",
    "Pour chacun des couples gare de départ / gare d'arrivée, créer un tableau avec les statistiques de la ligne, en évitant que les tableaux puissent être coupés par un saut de page. Ne pas oublier d'afficher les statistiques dans l'ordre du calendrier, et non pas dans l'ordre du document source...\n",
    "</div>\n",
    "\n",
    "Les documents demandés seront nommés\n",
    "<a href=\"question-6.xsl\"><tt>question-6.xsl</tt></a>,\n",
    "<a href=\"question-6.fo\"><tt>question-6.fo</tt></a> et\n",
    "<a href=\"question-6.pdf\"><tt>question-6.pdf</tt></a>."
   ]
  },
  {
   "cell_type": "code",
   "execution_count": 14,
   "metadata": {
    "util.bundle": "correcteur"
   },
   "outputs": [
    {
     "data": {
      "text/plain": [
       "76313"
      ]
     },
     "execution_count": 14,
     "metadata": {},
     "output_type": "execute_result"
    }
   ],
   "source": [
    "# votre code ici  pour créer question-6.fo\n",
    "import lxml.etree as ET\n",
    "\n",
    "xml=ET.parse(\"regularite-mensuelle-tgv.xml\")\n",
    "xsl=ET.parse(\"question-6.xsl\")\n",
    "transform=ET.XSLT(xsl)\n",
    "result=transform(xml)\n",
    "\n",
    "fichier=open(\"question-6.fo\",\"wb\")\n",
    "fichier.write(ET.tostring(result, pretty_print=True, encoding='utf-8'))"
   ]
  },
  {
   "cell_type": "code",
   "execution_count": 15,
   "metadata": {},
   "outputs": [],
   "source": [
    "# votre code ici  pour créer question-6.pdf\n",
    "def run_fop(filename):\n",
    "    import sys\n",
    "    import os.path\n",
    "    import subprocess\n",
    "    \n",
    "    # nom des fichiers\n",
    "    fo = \"question-6.fo\".format(filename)\n",
    "    pdf =\"question-6.pdf\".format(filename)\n",
    "    \n",
    "    # le fichier .fo n'existe pas\n",
    "    if not os.path.isfile(fo):\n",
    "        print(\"Could not find the fo file\".format(fo))\n",
    "        return None\n",
    "\n",
    "    # appel de fop (ajuster éventuellement le chemin d'accès à l'exécutable et au fichier de \n",
    "    args = [\"C:\\Program Files (x86)/fop-2.8-bin/fop-2.8/fop/fop\", fo, pdf]\n",
    "    return subprocess.run(args,shell=True,stderr=subprocess.PIPE)\n",
    "\n",
    "# On effectue la transformation\n",
    "r = run_fop('question-6')"
   ]
  },
  {
   "cell_type": "markdown",
   "metadata": {},
   "source": [
    "__Q7. Commentaires :__\n",
    "<div style=\"background-color:#eef;padding:10px;border-radius:3px\">\n",
    "Faire figurer les commentaires non vides là aussi dans l'ordre du calendrier.\n",
    "</div>\n",
    "\n",
    "Les documents demandés seront nommés\n",
    "<a href=\"question-7.xsl\"><tt>question-7.xsl</tt></a>,\n",
    "<a href=\"question-7.fo\"><tt>question-7.fo</tt></a> et\n",
    "<a href=\"question-7.pdf\"><tt>question-7.pdf</tt></a>."
   ]
  },
  {
   "cell_type": "code",
   "execution_count": 15,
   "metadata": {
    "util.bundle": "correcteur"
   },
   "outputs": [
    {
     "data": {
      "text/plain": [
       "460750"
      ]
     },
     "execution_count": 15,
     "metadata": {},
     "output_type": "execute_result"
    }
   ],
   "source": [
    "# votre code ici  pour créer question-7.fo\n",
    "import lxml.etree as ET\n",
    "\n",
    "xml=ET.parse(\"regularite-mensuelle-tgv.xml\")\n",
    "xsl=ET.parse(\"question-7.xsl\")\n",
    "transform=ET.XSLT(xsl)\n",
    "result=transform(xml)\n",
    "\n",
    "fichier=open(\"question-7.fo\",\"wb\")\n",
    "fichier.write(ET.tostring(result, pretty_print=True, encoding='utf-8'))"
   ]
  },
  {
   "cell_type": "code",
   "execution_count": 16,
   "metadata": {},
   "outputs": [],
   "source": [
    "# votre code ici  pour créer question-7.pdf\n",
    "def run_fop(filename):\n",
    "    import sys\n",
    "    import os.path\n",
    "    import subprocess\n",
    "    \n",
    "    # nom des fichiers\n",
    "    fo = \"question-7.fo\".format(filename)\n",
    "    pdf =\"question-7.pdf\".format(filename)\n",
    "    \n",
    "    # le fichier .fo n'existe pas\n",
    "    if not os.path.isfile(fo):\n",
    "        print(\"Could not find the fo file\".format(fo))\n",
    "        return None\n",
    "\n",
    "    # appel de fop (ajuster éventuellement le chemin d'accès à l'exécutable et au fichier de \n",
    "    args = [\"C:\\Program Files (x86)/fop-2.8-bin/fop-2.8/fop/fop\", fo, pdf]\n",
    "    return subprocess.run(args,shell=True,stderr=subprocess.PIPE)\n",
    "\n",
    "# On effectue la transformation\n",
    "r = run_fop('question-7')"
   ]
  },
  {
   "cell_type": "markdown",
   "metadata": {},
   "source": [
    "__Q8. Améliorer <i>ad libitum</i> :__\n",
    "<div style=\"background-color:#eef;padding:10px;border-radius:3px\">\n",
    "Numéroter les pages, ajouter un graphique SVG par couple gare de départ / gare d'arrivée,\n",
    "créer un sommaire cliquable renvoyant directement à la page concernée...\n",
    "</div>\n",
    "\n",
    "Les documents demandés seront nommés\n",
    "<a href=\"question-8.xsl\"><tt>question-8.xsl</tt></a>,\n",
    "<a href=\"question-8.fo\"><tt>question-8.fo</tt></a> et\n",
    "<a href=\"question-8.pdf\"><tt>question-8.pdf</tt></a>."
   ]
  },
  {
   "cell_type": "code",
   "execution_count": 8,
   "metadata": {
    "scrolled": true,
    "util.bundle": "correcteur"
   },
   "outputs": [
    {
     "ename": "XSLTApplyError",
     "evalue": "XPath evaluation returned no result.",
     "output_type": "error",
     "traceback": [
      "\u001b[1;31m---------------------------------------------------------------------------\u001b[0m",
      "\u001b[1;31mXSLTApplyError\u001b[0m                            Traceback (most recent call last)",
      "\u001b[1;32m~\\AppData\\Local\\Temp\\ipykernel_18024\\3495336419.py\u001b[0m in \u001b[0;36m<module>\u001b[1;34m\u001b[0m\n\u001b[0;32m      5\u001b[0m \u001b[0mxsl\u001b[0m\u001b[1;33m=\u001b[0m\u001b[0mET\u001b[0m\u001b[1;33m.\u001b[0m\u001b[0mparse\u001b[0m\u001b[1;33m(\u001b[0m\u001b[1;34m\"question-8.xsl\"\u001b[0m\u001b[1;33m)\u001b[0m\u001b[1;33m\u001b[0m\u001b[1;33m\u001b[0m\u001b[0m\n\u001b[0;32m      6\u001b[0m \u001b[0mtransform\u001b[0m\u001b[1;33m=\u001b[0m\u001b[0mET\u001b[0m\u001b[1;33m.\u001b[0m\u001b[0mXSLT\u001b[0m\u001b[1;33m(\u001b[0m\u001b[0mxsl\u001b[0m\u001b[1;33m)\u001b[0m\u001b[1;33m\u001b[0m\u001b[1;33m\u001b[0m\u001b[0m\n\u001b[1;32m----> 7\u001b[1;33m \u001b[0mresult\u001b[0m\u001b[1;33m=\u001b[0m\u001b[0mtransform\u001b[0m\u001b[1;33m(\u001b[0m\u001b[0mxml\u001b[0m\u001b[1;33m)\u001b[0m\u001b[1;33m\u001b[0m\u001b[1;33m\u001b[0m\u001b[0m\n\u001b[0m\u001b[0;32m      8\u001b[0m \u001b[1;33m\u001b[0m\u001b[0m\n\u001b[0;32m      9\u001b[0m \u001b[0mfichier\u001b[0m\u001b[1;33m=\u001b[0m\u001b[0mopen\u001b[0m\u001b[1;33m(\u001b[0m\u001b[1;34m\"question-8.fo\"\u001b[0m\u001b[1;33m,\u001b[0m\u001b[1;34m\"wb\"\u001b[0m\u001b[1;33m)\u001b[0m\u001b[1;33m\u001b[0m\u001b[1;33m\u001b[0m\u001b[0m\n",
      "\u001b[1;32msrc/lxml/xslt.pxi\u001b[0m in \u001b[0;36mlxml.etree.XSLT.__call__\u001b[1;34m()\u001b[0m\n",
      "\u001b[1;31mXSLTApplyError\u001b[0m: XPath evaluation returned no result."
     ]
    }
   ],
   "source": [
    "# votre code ici  pour créer question-8.fo\n",
    "import lxml.etree as ET\n",
    "\n",
    "xml=ET.parse(\"regularite-mensuelle-tgv.xml\")\n",
    "xsl=ET.parse(\"question-8.xsl\")\n",
    "transform=ET.XSLT(xsl)\n",
    "result=transform(xml)\n",
    "\n",
    "fichier=open(\"question-8.fo\",\"wb\")\n",
    "fichier.write(ET.tostring(result, pretty_print=True, encoding='utf-8'))"
   ]
  },
  {
   "cell_type": "code",
   "execution_count": 7,
   "metadata": {},
   "outputs": [],
   "source": [
    "# votre code ici  pour créer question-8.pdf\n",
    "def run_fop(filename):\n",
    "    import sys\n",
    "    import os.path\n",
    "    import subprocess\n",
    "    \n",
    "    # nom des fichiers\n",
    "    fo = \"question-8.fo\".format(filename)\n",
    "    pdf =\"question-8.pdf\".format(filename)\n",
    "    \n",
    "    # le fichier .fo n'existe pas\n",
    "    if not os.path.isfile(fo):\n",
    "        print(\"Could not find the fo file\".format(fo))\n",
    "        return None\n",
    "\n",
    "    # appel de fop (ajuster éventuellement le chemin d'accès à l'exécutable et au fichier de \n",
    "    args = [\"C:\\Program Files (x86)/fop-2.8-bin/fop-2.8/fop/fop\", fo, pdf]\n",
    "    return subprocess.run(args,shell=True,stderr=subprocess.PIPE)\n",
    "\n",
    "# On effectue la transformation\n",
    "r = run_fop('question-8')"
   ]
  },
  {
   "cell_type": "code",
   "execution_count": null,
   "metadata": {},
   "outputs": [],
   "source": []
  }
 ],
 "metadata": {
  "kernelspec": {
   "display_name": "Python 3 (ipykernel)",
   "language": "python",
   "name": "python3"
  },
  "language_info": {
   "codemirror_mode": {
    "name": "ipython",
    "version": 3
   },
   "file_extension": ".py",
   "mimetype": "text/x-python",
   "name": "python",
   "nbconvert_exporter": "python",
   "pygments_lexer": "ipython3",
   "version": "3.9.13"
  },
  "vscode": {
   "interpreter": {
    "hash": "9e35676d33e03a9093a17dc7760f2b2aa4960ff6d3c0d7dc06348afdc0ca22c8"
   }
  }
 },
 "nbformat": 4,
 "nbformat_minor": 2
}
